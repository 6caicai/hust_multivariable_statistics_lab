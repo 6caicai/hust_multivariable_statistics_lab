{
 "cells": [
  {
   "cell_type": "code",
   "execution_count": 6,
   "metadata": {},
   "outputs": [
    {
     "name": "stdout",
     "output_type": "stream",
     "text": [
      "Result of 2A + 3B':\n",
      " [[ 2.71931512 -0.96339119 -0.42869515  3.36873081]\n",
      " [-5.20814748 -2.50676727 -0.07848547  2.73745407]\n",
      " [-5.11370227  3.02786208  4.47011092 -4.20570407]]\n"
     ]
    }
   ],
   "source": [
    "import numpy as np\n",
    "\n",
    "# Set seed for reproducibility\n",
    "np.random.seed(42)\n",
    "\n",
    "# Generate matrices A and B\n",
    "A = np.random.normal(loc=-1, scale=1, size=(3, 4))  # N(-1, 1)\n",
    "B = np.random.normal(loc=1, scale=1, size=(4, 3))   # N(1, 1)\n",
    "\n",
    "# (a) Calculate 2A + 3B'\n",
    "B_transpose = B.T\n",
    "result_a = 2 * A + 3 * B_transpose\n",
    "print(\"Result of 2A + 3B':\\n\", result_a)\n"
   ]
  },
  {
   "cell_type": "code",
   "execution_count": 7,
   "metadata": {},
   "outputs": [
    {
     "name": "stdout",
     "output_type": "stream",
     "text": [
      "\n",
      "Matrix C (AB):\n",
      " [[-0.75075658  1.17785467 -2.22195224]\n",
      " [-2.19975298  0.65588168  0.79961563]\n",
      " [-3.29466083  0.38657607 -2.52164903]]\n"
     ]
    }
   ],
   "source": [
    "# (b) Calculate C = AB\n",
    "C = np.dot(A, B)\n",
    "print(\"\\nMatrix C (AB):\\n\", C)"
   ]
  },
  {
   "cell_type": "code",
   "execution_count": 8,
   "metadata": {},
   "outputs": [
    {
     "name": "stdout",
     "output_type": "stream",
     "text": [
      "\n",
      "Frobenius norm of C (|C|): 5.491764087367032\n"
     ]
    }
   ],
   "source": [
    "# (c) Calculate |C| (Frobenius norm)\n",
    "frobenius_norm = np.linalg.norm(C, ord='fro')\n",
    "print(\"\\nFrobenius norm of C (|C|):\", frobenius_norm)"
   ]
  },
  {
   "cell_type": "code",
   "execution_count": 9,
   "metadata": {},
   "outputs": [
    {
     "name": "stdout",
     "output_type": "stream",
     "text": [
      "\n",
      "Matrix M:\n",
      " [[ 0.99228056  0.07179888 -0.044489   -0.02292373]\n",
      " [ 0.07179888  0.33219501  0.41379446  0.21321479]\n",
      " [-0.044489    0.41379446  0.74359901 -0.13211507]\n",
      " [-0.02292373  0.21321479 -0.13211507  0.93192542]]\n",
      "\n",
      "Is M^2 - M a zero matrix?: True\n"
     ]
    }
   ],
   "source": [
    "# (d) Generate M = B(B'B)^-1 B' and verify M^2 - M is a zero matrix\n",
    "B_transpose_B = np.dot(B.T, B)\n",
    "B_transpose_B_inv = np.linalg.inv(B_transpose_B)\n",
    "M = np.dot(B, np.dot(B_transpose_B_inv, B.T))\n",
    "\n",
    "# Check if M^2 - M is a zero matrix\n",
    "M_squared = np.dot(M, M)\n",
    "is_zero_matrix = np.allclose(M_squared - M, 0)\n",
    "\n",
    "print(\"\\nMatrix M:\\n\", M)\n",
    "print(\"\\nIs M^2 - M a zero matrix?:\", is_zero_matrix)"
   ]
  },
  {
   "cell_type": "code",
   "execution_count": 10,
   "metadata": {},
   "outputs": [
    {
     "name": "stdout",
     "output_type": "stream",
     "text": [
      "Correlation matrix R:\n",
      " [[ 1.         -0.04903877  0.03853747 -0.13937451]\n",
      " [-0.04903877  1.         -0.01328408  0.18062347]\n",
      " [ 0.03853747 -0.01328408  1.          0.08800749]\n",
      " [-0.13937451  0.18062347  0.08800749  1.        ]]\n"
     ]
    }
   ],
   "source": [
    "# Set seed for reproducibility\n",
    "np.random.seed(42)\n",
    "\n",
    "# Generate a 25x4 matrix X with elements from N(0, 1)\n",
    "X = np.random.normal(loc=0, scale=1, size=(25, 4))\n",
    "\n",
    "# (a) Calculate the correlation matrix R of X\n",
    "R = np.corrcoef(X, rowvar=False)  # rowvar=False ensures columns are considered variables\n",
    "print(\"Correlation matrix R:\\n\", R)"
   ]
  },
  {
   "cell_type": "code",
   "execution_count": 11,
   "metadata": {},
   "outputs": [
    {
     "name": "stdout",
     "output_type": "stream",
     "text": [
      "\n",
      "Eigenvalues of R:\n",
      " [1.25789659 0.76143656 0.94498159 1.03568526]\n",
      "\n",
      "Eigenvectors of R:\n",
      " [[-0.45410028  0.37327316  0.6908857   0.42087651]\n",
      " [ 0.55695101 -0.4815761   0.67241916 -0.07577932]\n",
      " [ 0.13617182 -0.34965804 -0.26304069  0.88882287]\n",
      " [ 0.68194996  0.71168171 -0.03659273  0.1646644 ]]\n"
     ]
    }
   ],
   "source": [
    "# (b) Obtain the eigenvalues and eigenvectors of R\n",
    "eigenvalues, eigenvectors = np.linalg.eig(R)\n",
    "print(\"\\nEigenvalues of R:\\n\", eigenvalues)\n",
    "print(\"\\nEigenvectors of R:\\n\", eigenvectors)"
   ]
  },
  {
   "cell_type": "code",
   "execution_count": 12,
   "metadata": {},
   "outputs": [
    {
     "name": "stdout",
     "output_type": "stream",
     "text": [
      "\n",
      "Trace of R: 3.999999999999999\n",
      "Sum of eigenvalues: 4.0\n",
      "Is trace(R) equal to the sum of eigenvalues?: True\n"
     ]
    }
   ],
   "source": [
    "# (c) Verify trace(R) equals the summation of eigenvalues\n",
    "trace_R = np.trace(R)\n",
    "sum_eigenvalues = np.sum(eigenvalues)\n",
    "print(\"\\nTrace of R:\", trace_R)\n",
    "print(\"Sum of eigenvalues:\", sum_eigenvalues)\n",
    "print(\"Is trace(R) equal to the sum of eigenvalues?:\", np.isclose(trace_R, sum_eigenvalues))"
   ]
  }
 ],
 "metadata": {
  "kernelspec": {
   "display_name": "Python 3",
   "language": "python",
   "name": "python3"
  },
  "language_info": {
   "codemirror_mode": {
    "name": "ipython",
    "version": 3
   },
   "file_extension": ".py",
   "mimetype": "text/x-python",
   "name": "python",
   "nbconvert_exporter": "python",
   "pygments_lexer": "ipython3",
   "version": "3.11.9"
  }
 },
 "nbformat": 4,
 "nbformat_minor": 2
}
