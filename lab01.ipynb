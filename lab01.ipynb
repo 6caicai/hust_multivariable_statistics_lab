{
 "cells": [
  {
   "cell_type": "markdown",
   "metadata": {},
   "source": [
    "exercise 1"
   ]
  },
  {
   "cell_type": "code",
   "execution_count": 7,
   "metadata": {},
   "outputs": [
    {
     "data": {
      "text/plain": [
       "'Usage: input positive integer like 1, 2, 8...'"
      ]
     },
     "execution_count": 7,
     "metadata": {},
     "output_type": "execute_result"
    }
   ],
   "source": [
    "def n_factorial(n):\n",
    "    '''\n",
    "    input positive integer n and output factorial of n.\n",
    "\n",
    "    examples:\n",
    "    n_factorial(2)\n",
    "    >>> 2\n",
    "    n_factorial(0)\n",
    "    >>> Usage: input positive integer like 1, 2, 8...\n",
    "    '''\n",
    "    if not isinstance(n, int) or n <= 0:\n",
    "        return \"Usage: input positive integer like 1, 2, 8...\"\n",
    "    else:\n",
    "        result = 1\n",
    "        for i in range(1, n + 1):\n",
    "            result *= i\n",
    "        return result"
   ]
  },
  {
   "cell_type": "markdown",
   "metadata": {},
   "source": [
    "exercise 2"
   ]
  },
  {
   "cell_type": "code",
   "execution_count": 74,
   "metadata": {},
   "outputs": [],
   "source": [
    "def sum_divisor(array, max_number):\n",
    "    '''\n",
    "    input an array and a max number, sum all divisor of the array that is below max number and output it.\n",
    "\n",
    "    examples:\n",
    "    mul_divisor([3, 7], 10)\n",
    "    >>> 25\n",
    "    sum_divisor([3], 10)\n",
    "    >>> 18\n",
    "    sum_divisor([2, 3], 10)\n",
    "    >>> 32\n",
    "    '''\n",
    "    dict = {}\n",
    "    for i in range(len(array)):\n",
    "        for j in range(1, max_number):\n",
    "            if j % array[i] == 0:\n",
    "                dict[j] = 1\n",
    "    return sum(dict)"
   ]
  },
  {
   "cell_type": "code",
   "execution_count": 73,
   "metadata": {},
   "outputs": [
    {
     "data": {
      "text/plain": [
       "214216"
      ]
     },
     "execution_count": 73,
     "metadata": {},
     "output_type": "execute_result"
    }
   ],
   "source": [
    "sum_divisor([3, 7], 1000)"
   ]
  },
  {
   "cell_type": "code",
   "execution_count": 59,
   "metadata": {},
   "outputs": [
    {
     "data": {
      "text/plain": [
       "(array([[0.1843474 , 0.95920098, 0.73673044, 2.74263932],\n",
       "        [3.76641845, 2.39955396, 2.15366702, 0.92387579],\n",
       "        [1.08674038, 0.96575619, 0.01078851, 1.22140783]]),\n",
       " array([[-3.31437472, -0.76948921, -1.25617121],\n",
       "        [-2.65654727,  0.82425752,  0.02954887],\n",
       "        [-0.20403958, -2.17137585, -1.82933495],\n",
       "        [-1.04994641,  0.15360482, -0.51292255]]))"
      ]
     },
     "execution_count": 59,
     "metadata": {},
     "output_type": "execute_result"
    }
   ],
   "source": [
    "import numpy as np\n",
    "a = np.random.normal(1, 1, (3, 4))\n",
    "b = np.random.normal(-1, 1, (4, 3))\n",
    "a, b"
   ]
  },
  {
   "cell_type": "code",
   "execution_count": 60,
   "metadata": {},
   "outputs": [
    {
     "data": {
      "text/plain": [
       "array([[-6.07570724, -2.43549161,  1.80211216,  6.12802512],\n",
       "       [ 9.76027694,  8.84717691,  2.11824935,  3.07883703],\n",
       "       [ 0.74787871,  2.95636632, -3.62630437,  2.63837838]])"
      ]
     },
     "execution_count": 60,
     "metadata": {},
     "output_type": "execute_result"
    }
   ],
   "source": [
    "3 * a + 2 * b.T"
   ]
  },
  {
   "cell_type": "code",
   "execution_count": 61,
   "metadata": {},
   "outputs": [
    {
     "data": {
      "text/plain": [
       "array([[ -6.18910559,  -0.52966078,  -2.95771689],\n",
       "       [-20.26730402,  -5.45487676,  -9.07401739],\n",
       "       [ -7.45205587,   0.12398503,  -1.98281839]])"
      ]
     },
     "execution_count": 61,
     "metadata": {},
     "output_type": "execute_result"
    }
   ],
   "source": [
    "c = a @ b\n",
    "c"
   ]
  },
  {
   "cell_type": "code",
   "execution_count": 62,
   "metadata": {},
   "outputs": [
    {
     "data": {
      "text/plain": [
       "39.22849193987964"
      ]
     },
     "execution_count": 62,
     "metadata": {},
     "output_type": "execute_result"
    }
   ],
   "source": [
    "detC = np.linalg.det(c)\n",
    "detC"
   ]
  },
  {
   "cell_type": "code",
   "execution_count": 63,
   "metadata": {},
   "outputs": [
    {
     "data": {
      "text/plain": [
       "array([[ 1.00000000e+00, -4.20743549e-17, -2.23091656e-16],\n",
       "       [ 8.03648870e-17,  1.00000000e+00,  2.58774948e-17],\n",
       "       [ 5.99223631e-16, -4.80041050e-17,  1.00000000e+00]])"
      ]
     },
     "execution_count": 63,
     "metadata": {},
     "output_type": "execute_result"
    }
   ],
   "source": [
    "invC = np.linalg.inv(c)\n",
    "invC @ c # can be consider as identity matrix"
   ]
  },
  {
   "cell_type": "code",
   "execution_count": 64,
   "metadata": {},
   "outputs": [
    {
     "data": {
      "text/plain": [
       "array([[-6.10996362e-01, -1.41853336e-01, -2.31571897e-01,\n",
       "        -3.17915147e+00, -7.38094805e-01, -1.20492065e+00,\n",
       "        -2.44180076e+00, -5.66906129e-01, -9.25459573e-01,\n",
       "        -9.09013441e+00, -2.11043137e+00, -3.44522455e+00],\n",
       "       [-4.89727583e-01,  1.51949731e-01,  5.44725735e-03,\n",
       "        -2.54816274e+00,  7.90628618e-01,  2.83433049e-02,\n",
       "        -1.95715925e+00,  6.07255608e-01,  2.17695521e-02,\n",
       "        -7.28595100e+00,  2.26064108e+00,  8.10418925e-02],\n",
       "       [-3.76141668e-02, -4.00287493e-01, -3.37233142e-01,\n",
       "        -1.95714969e-01, -2.08278584e+00, -1.75469987e+00,\n",
       "        -1.50322173e-01, -1.59971870e+00, -1.34772675e+00,\n",
       "        -5.59606986e-01, -5.95530079e+00, -5.01720595e+00],\n",
       "       [-1.93554892e-01,  2.83166500e-02, -9.45559383e-02,\n",
       "        -1.00710963e+00,  1.47337897e-01, -4.91995810e-01,\n",
       "        -7.73527487e-01,  1.13165350e-01, -3.77885657e-01,\n",
       "        -2.87962432e+00,  4.21282630e-01, -1.40676155e+00],\n",
       "       [-1.24833221e+01, -2.89821837e+00, -4.73126643e+00,\n",
       "        -7.95302097e+00, -1.84643088e+00, -3.01425060e+00,\n",
       "        -7.13805952e+00, -1.65722354e+00, -2.70537451e+00,\n",
       "        -3.06207057e+00, -7.10912458e-01, -1.16054617e+00],\n",
       "       [-1.00056687e+01,  3.10449873e+00,  1.11293409e-01,\n",
       "        -6.37452852e+00,  1.97785039e+00,  7.09041078e-02,\n",
       "        -5.72131825e+00,  1.77517624e+00,  6.36384267e-02,\n",
       "        -2.45431972e+00,  7.61511570e-01,  2.72994857e-02],\n",
       "       [-7.68498455e-01, -8.17831009e+00, -6.89004091e+00,\n",
       "        -4.89603991e-01, -5.21033352e+00, -4.38958791e+00,\n",
       "        -4.39433323e-01, -4.67642056e+00, -3.93977835e+00,\n",
       "        -1.88507233e-01, -2.00608159e+00, -1.69007828e+00],\n",
       "       [-3.95453755e+00,  5.78540044e-01, -1.93188095e+00,\n",
       "        -2.51940307e+00,  3.68583063e-01, -1.23078533e+00,\n",
       "        -2.26123496e+00,  3.30813644e-01, -1.10466438e+00,\n",
       "        -9.70020077e-01,  1.41911779e-01, -4.73876727e-01],\n",
       "       [-3.60186483e+00, -8.36234998e-01, -1.36513198e+00,\n",
       "        -3.20087791e+00, -7.43138974e-01, -1.21315513e+00,\n",
       "        -3.57571664e-02, -8.30164244e-03, -1.35522163e-02,\n",
       "        -4.04820322e+00, -9.39860147e-01, -1.53429735e+00],\n",
       "       [-2.88697719e+00,  8.95753928e-01,  3.21119501e-02,\n",
       "        -2.56557699e+00,  7.96031805e-01,  2.85370042e-02,\n",
       "        -2.86601881e-02,  8.89251089e-03,  3.18788293e-04,\n",
       "        -3.24472763e+00,  1.00675459e+00,  3.60912210e-02],\n",
       "       [-2.21738055e-01, -2.35972182e+00, -1.98801215e+00,\n",
       "        -1.97052492e-01, -2.09701968e+00, -1.76669156e+00,\n",
       "        -2.20128319e-03, -2.34259112e-02, -1.97357993e-02,\n",
       "        -2.49215545e-01, -2.65213546e+00, -2.23436402e+00],\n",
       "       [-1.14101916e+00,  1.66928565e-01, -5.57413645e-01,\n",
       "        -1.01399225e+00,  1.48344810e-01, -4.95358129e-01,\n",
       "        -1.13273579e-02,  1.65716726e-03, -5.53367030e-03,\n",
       "        -1.28241277e+00,  1.87614134e-01, -6.26487616e-01]])"
      ]
     },
     "execution_count": 64,
     "metadata": {},
     "output_type": "execute_result"
    }
   ],
   "source": [
    "k = np.kron(a, b)\n",
    "k"
   ]
  },
  {
   "cell_type": "code",
   "execution_count": 65,
   "metadata": {},
   "outputs": [
    {
     "data": {
      "text/plain": [
       "array([[ 0.73704866,  0.36000764,  0.22108706, -0.12378588],\n",
       "       [ 0.36000764,  0.50711224, -0.3026911 ,  0.1694757 ],\n",
       "       [ 0.22108706, -0.3026911 ,  0.81411203,  0.10407803],\n",
       "       [-0.12378588,  0.1694757 ,  0.10407803,  0.94172707]])"
      ]
     },
     "execution_count": 65,
     "metadata": {},
     "output_type": "execute_result"
    }
   ],
   "source": [
    "b @ np.linalg.inv(b.T @ b) @ b.T"
   ]
  },
  {
   "cell_type": "markdown",
   "metadata": {},
   "source": [
    "exercise 4"
   ]
  },
  {
   "cell_type": "code",
   "execution_count": 67,
   "metadata": {},
   "outputs": [
    {
     "data": {
      "text/plain": [
       "array([[0.39056368, 0.12730915, 0.05569574],\n",
       "       [0.74248228, 0.79546699, 0.65607922],\n",
       "       [0.82917966, 0.78792099, 0.53721243]])"
      ]
     },
     "execution_count": 67,
     "metadata": {},
     "output_type": "execute_result"
    }
   ],
   "source": [
    "a = np.random.rand(3,3)\n",
    "a"
   ]
  },
  {
   "cell_type": "code",
   "execution_count": 69,
   "metadata": {},
   "outputs": [
    {
     "data": {
      "text/plain": [
       "array([[1.        , 0.98054993, 0.93022684],\n",
       "       [0.98054993, 1.        , 0.98416195],\n",
       "       [0.93022684, 0.98416195, 1.        ]])"
      ]
     },
     "execution_count": 69,
     "metadata": {},
     "output_type": "execute_result"
    }
   ],
   "source": [
    "correlation_matrix = np.corrcoef(a, rowvar=False)\n",
    "correlation_matrix"
   ]
  },
  {
   "cell_type": "code",
   "execution_count": 70,
   "metadata": {},
   "outputs": [
    {
     "data": {
      "text/plain": [
       "array([ 2.93016603e+00,  6.98339693e-02, -1.27255862e-16])"
      ]
     },
     "execution_count": 70,
     "metadata": {},
     "output_type": "execute_result"
    }
   ],
   "source": [
    "eigenvalues, eigenvectors = np.linalg.eig(correlation_matrix)\n",
    "eigenvalues"
   ]
  },
  {
   "cell_type": "code",
   "execution_count": 71,
   "metadata": {},
   "outputs": [
    {
     "data": {
      "text/plain": [
       "3.0000000000000004"
      ]
     },
     "execution_count": 71,
     "metadata": {},
     "output_type": "execute_result"
    }
   ],
   "source": [
    "sum(eigenvalues)"
   ]
  },
  {
   "cell_type": "code",
   "execution_count": 72,
   "metadata": {},
   "outputs": [
    {
     "data": {
      "text/plain": [
       "3.0"
      ]
     },
     "execution_count": 72,
     "metadata": {},
     "output_type": "execute_result"
    }
   ],
   "source": [
    "sum(np.diagonal(correlation_matrix))"
   ]
  },
  {
   "cell_type": "markdown",
   "metadata": {},
   "source": [
    "exercise 5"
   ]
  },
  {
   "cell_type": "code",
   "execution_count": 76,
   "metadata": {},
   "outputs": [
    {
     "data": {
      "text/plain": [
       "array([[0.21065747, 0.86071513, 0.8556045 , 0.9439893 , 0.52788168,\n",
       "        0.76237857],\n",
       "       [0.32411953, 0.41032954, 0.40609531, 0.56173541, 0.82856347,\n",
       "        0.94905884],\n",
       "       [0.15782948, 0.68648004, 0.6908071 , 0.04517578, 0.77538347,\n",
       "        0.04620662],\n",
       "       [0.47918653, 0.48438062, 0.67966102, 0.85203327, 0.28884574,\n",
       "        0.98799359]])"
      ]
     },
     "execution_count": 76,
     "metadata": {},
     "output_type": "execute_result"
    }
   ],
   "source": [
    "x = np.random.rand(4, 6)\n",
    "x"
   ]
  },
  {
   "cell_type": "code",
   "execution_count": 78,
   "metadata": {},
   "outputs": [
    {
     "data": {
      "text/plain": [
       "(array([[ 0.6028252 ,  0.01267379,  0.53509993, -0.59170027],\n",
       "        [ 0.49369898, -0.09339765, -0.82825746, -0.24804792],\n",
       "        [ 0.32525391,  0.88124716, -0.0081765 ,  0.34285052],\n",
       "        [ 0.53579192, -0.46316271,  0.16610475,  0.68616072]]),\n",
       " array([2.94932622, 0.91630233, 0.5535708 , 0.23512234]),\n",
       " array([[ 0.20177017,  0.40831278,  0.44251239,  0.44674437,  0.38457565,\n",
       "          0.49927277],\n",
       "        [-0.12054615,  0.38545821,  0.29127237, -0.4314295 ,  0.52256364,\n",
       "         -0.54115324],\n",
       "        [-0.13986821,  0.35326108,  0.41318829,  0.32701229, -0.65421749,\n",
       "         -0.38727428],\n",
       "        [ 0.75648974, -0.18434562,  0.40918166, -0.41585044, -0.22896995,\n",
       "          0.0308464 ],\n",
       "        [-0.29004899, -0.71737009,  0.54866217,  0.21052455,  0.20053958,\n",
       "         -0.12523915],\n",
       "        [-0.5184488 ,  0.10633015,  0.28312332, -0.53860824, -0.24162972,\n",
       "          0.5396871 ]]))"
      ]
     },
     "execution_count": 78,
     "metadata": {},
     "output_type": "execute_result"
    }
   ],
   "source": [
    "u, d, v = np.linalg.svd(x)\n",
    "u, d, v"
   ]
  },
  {
   "cell_type": "code",
   "execution_count": 79,
   "metadata": {},
   "outputs": [
    {
     "data": {
      "text/plain": [
       "array([[ 1.00000000e+00,  6.06824440e-16,  2.06887739e-16,\n",
       "         6.21970027e-16],\n",
       "       [ 6.06824440e-16,  1.00000000e+00,  9.06137490e-17,\n",
       "         2.83803303e-16],\n",
       "       [ 2.06887739e-16,  9.06137490e-17,  1.00000000e+00,\n",
       "        -1.74427173e-16],\n",
       "       [ 6.21970027e-16,  2.83803303e-16, -1.74427173e-16,\n",
       "         1.00000000e+00]])"
      ]
     },
     "execution_count": 79,
     "metadata": {},
     "output_type": "execute_result"
    }
   ],
   "source": [
    "u @ u.T # can be consider as identity matrix"
   ]
  },
  {
   "cell_type": "code",
   "execution_count": 80,
   "metadata": {},
   "outputs": [
    {
     "data": {
      "text/plain": [
       "array([[ 1.00000000e+00, -1.43257886e-16, -7.28889909e-18,\n",
       "         2.47155334e-16, -3.21393059e-17, -4.82426158e-17],\n",
       "       [-1.43257886e-16,  1.00000000e+00,  1.68644579e-17,\n",
       "        -2.80884468e-18, -1.38112161e-16, -7.70690804e-17],\n",
       "       [-7.28889909e-18,  1.68644579e-17,  1.00000000e+00,\n",
       "        -5.39785833e-17, -1.21748546e-16, -1.36584390e-16],\n",
       "       [ 2.47155334e-16, -2.80884468e-18, -5.39785833e-17,\n",
       "         1.00000000e+00, -3.58052837e-16, -2.95139325e-17],\n",
       "       [-3.21393059e-17, -1.38112161e-16, -1.21748546e-16,\n",
       "        -3.58052837e-16,  1.00000000e+00, -2.70283935e-17],\n",
       "       [-4.82426158e-17, -7.70690804e-17, -1.36584390e-16,\n",
       "        -2.95139325e-17, -2.70283935e-17,  1.00000000e+00]])"
      ]
     },
     "execution_count": 80,
     "metadata": {},
     "output_type": "execute_result"
    }
   ],
   "source": [
    "v @ v.T # can be consider as identity matrix"
   ]
  }
 ],
 "metadata": {
  "kernelspec": {
   "display_name": "Python 3",
   "language": "python",
   "name": "python3"
  },
  "language_info": {
   "codemirror_mode": {
    "name": "ipython",
    "version": 3
   },
   "file_extension": ".py",
   "mimetype": "text/x-python",
   "name": "python",
   "nbconvert_exporter": "python",
   "pygments_lexer": "ipython3",
   "version": "3.11.9"
  }
 },
 "nbformat": 4,
 "nbformat_minor": 2
}
